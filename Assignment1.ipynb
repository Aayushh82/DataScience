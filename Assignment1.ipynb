{
 "cells": [
  {
   "cell_type": "code",
   "execution_count": 4,
   "id": "5da58933-56f7-4333-8147-7e6cb61a4bf0",
   "metadata": {},
   "outputs": [
    {
     "name": "stdout",
     "output_type": "stream",
     "text": [
      "Initial list of favorite movies:\n",
      "['The Shawshank Redemption', 'Inception', 'The Dark Knight', 'Interstellar', 'Forrest Gump']\n",
      "Updated list of favorite movies:\n",
      "['The Shawshank Redemption', 'Inception', 'The Dark Knight', 'Interstellar', 'Forrest Gump', 'The Matrix']\n"
     ]
    }
   ],
   "source": [
    "#Q NO 4\n",
    "movies = [\"The Shawshank Redemption\", \"Inception\", \"The Dark Knight\", \"Interstellar\", \"Forrest Gump\"]\n",
    "print(\"Initial list of favorite movies:\")\n",
    "print(movies)\n",
    "new_movie = \"The Matrix\"\n",
    "movies.append(new_movie)\n",
    "print(\"Updated list of favorite movies:\")\n",
    "print(movies)\n"
   ]
  },
  {
   "cell_type": "code",
   "execution_count": 5,
   "id": "3631a47e-31e0-4975-8395-54568b5411e8",
   "metadata": {},
   "outputs": [
    {
     "name": "stdout",
     "output_type": "stream",
     "text": [
      "55\n"
     ]
    }
   ],
   "source": [
    "#Q NO 5\n",
    "integers = [1, 2, 3, 4, 5, 6, 7, 8, 9, 10]\n",
    "total = 0\n",
    "for num in integers:\n",
    "    total += num\n",
    "print(total)\n",
    "\n"
   ]
  },
  {
   "cell_type": "code",
   "execution_count": 6,
   "id": "092f1696-84e5-4adf-bf03-3393dc6d390e",
   "metadata": {},
   "outputs": [
    {
     "name": "stdout",
     "output_type": "stream",
     "text": [
      "Original list: [10, 'apple', 4.5, 'banana', 42]\n",
      "Modified list: ['apple', 4.5, 'banana', 42]\n"
     ]
    }
   ],
   "source": [
    "#Q NO 6\n",
    "mixed_list = [10, \"apple\", 4.5, \"banana\", 42]\n",
    "print(\"Original list:\", mixed_list)\n",
    "mixed_list.pop(0)\n",
    "print(\"Modified list:\", mixed_list)\n"
   ]
  },
  {
   "cell_type": "code",
   "execution_count": 7,
   "id": "064ab447-fa89-43e5-a700-fb0b281f6ed6",
   "metadata": {},
   "outputs": [
    {
     "name": "stdout",
     "output_type": "stream",
     "text": [
      "Days of the week: ('Sunday', 'Monday', 'Tuesday', 'Wednesday', 'Thursday', 'Friday', 'Saturday')\n",
      "The third day is: Tuesday\n"
     ]
    }
   ],
   "source": [
    "#Q NO 7\n",
    "days = (\"Sunday\", \"Monday\", \"Tuesday\", \"Wednesday\", \"Thursday\", \"Friday\", \"Saturday\")\n",
    "print(\"Days of the week:\", days)\n",
    "print(\"The third day is:\", days[2])\n"
   ]
  },
  {
   "cell_type": "code",
   "execution_count": 8,
   "id": "10178204-084c-443f-95ab-5e3b8bc74e8c",
   "metadata": {},
   "outputs": [
    {
     "name": "stdout",
     "output_type": "stream",
     "text": [
      "Black in colors? True\n"
     ]
    }
   ],
   "source": [
    "#Q NO 8\n",
    "colors = (\"red\", \"blue\", \"green\", \"yellow\", \"black\")\n",
    "color_to_check = \"black\"\n",
    "is_present = False\n",
    "for color in colors:\n",
    "    if color == color_to_check:\n",
    "        is_present = True\n",
    "        break\n",
    "print(\"Black in colors?\", is_present)\n"
   ]
  },
  {
   "cell_type": "code",
   "execution_count": 9,
   "id": "354ba905-1c2c-4654-a02a-f9bf3add714a",
   "metadata": {},
   "outputs": [
    {
     "name": "stdout",
     "output_type": "stream",
     "text": [
      "Original book info: {'title': 'Managing Oneself', 'author': 'Peter Drucker', 'year': 2001}\n",
      "Updated book info: {'title': 'Managing Oneself', 'author': 'Peter Drucker', 'year': 2010}\n"
     ]
    }
   ],
   "source": [
    "#Q NO 9\n",
    "book = {\n",
    "    \"title\": \"Managing Oneself\",\n",
    "    \"author\": \"Peter Drucker\",\n",
    "    \"year\": 2001\n",
    "}\n",
    "print(\"Original book info:\", book)\n",
    "book[\"year\"] = 2010\n",
    "print(\"Updated book info:\", book)\n"
   ]
  },
  {
   "cell_type": "code",
   "execution_count": 10,
   "id": "bea15899-d10c-4e0b-a074-e40eb2afb3be",
   "metadata": {},
   "outputs": [
    {
     "name": "stdout",
     "output_type": "stream",
     "text": [
      "Original dictionary: {'apple': 'red', 'banana': 'yellow', 'grape': 'green', 'orange': 'orange'}\n",
      "Updated dictionary: {'apple': 'red', 'banana': 'yellow', 'grape': 'green', 'orange': 'orange', 'kiwi': 'green'}\n"
     ]
    }
   ],
   "source": [
    "#Q NO 10\n",
    "fruit_colors = {\n",
    "    \"apple\": \"red\",\n",
    "    \"banana\": \"yellow\",\n",
    "    \"grape\": \"green\",\n",
    "    \"orange\": \"orange\"\n",
    "}\n",
    "print(\"Original dictionary:\", fruit_colors)\n",
    "fruit_colors[\"kiwi\"] = \"green\"\n",
    "print(\"Updated dictionary:\", fruit_colors)\n"
   ]
  },
  {
   "cell_type": "code",
   "execution_count": 12,
   "id": "618f8dfa-461c-4cfb-bd45-c6920c745010",
   "metadata": {},
   "outputs": [
    {
     "name": "stdout",
     "output_type": "stream",
     "text": [
      "Original dictionary: {'Kathmandu': 1000000, 'Bhaktapur': 300000, 'Lalitpur': 400000, 'Biratnagar': 500000}\n",
      "Updated dictionary: {'Kathmandu': 1000000, 'Lalitpur': 400000, 'Biratnagar': 500000}\n"
     ]
    }
   ],
   "source": [
    "#Q NO 11\n",
    "city = {\n",
    "    \"Kathmandu\": 1000000,\n",
    "    \"Bhaktapur\": 300000,\n",
    "    \"Lalitpur\": 400000,\n",
    "    \"Biratnagar\": 500000\n",
    "}\n",
    "print(\"Original dictionary:\", city)\n",
    "city.pop(\"Bhaktapur\")\n",
    "print(\"Updated dictionary:\", city)\n"
   ]
  },
  {
   "cell_type": "code",
   "execution_count": null,
   "id": "78f25697-49c8-4a58-a959-c09a5bed86f9",
   "metadata": {},
   "outputs": [],
   "source": []
  }
 ],
 "metadata": {
  "kernelspec": {
   "display_name": "Python 3 (ipykernel)",
   "language": "python",
   "name": "python3"
  },
  "language_info": {
   "codemirror_mode": {
    "name": "ipython",
    "version": 3
   },
   "file_extension": ".py",
   "mimetype": "text/x-python",
   "name": "python",
   "nbconvert_exporter": "python",
   "pygments_lexer": "ipython3",
   "version": "3.11.7"
  }
 },
 "nbformat": 4,
 "nbformat_minor": 5
}
